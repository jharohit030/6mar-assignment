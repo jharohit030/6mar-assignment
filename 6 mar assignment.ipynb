{
 "cells": [
  {
   "cell_type": "code",
   "execution_count": null,
   "id": "35267b1f",
   "metadata": {},
   "outputs": [],
   "source": [
    "#Question 1:\n",
    "\n",
    "Statistics is the study and manipulation of data, including ways to gather, review, analyze, and draw conclusions from data. "
   ]
  },
  {
   "cell_type": "code",
   "execution_count": null,
   "id": "d343821a",
   "metadata": {},
   "outputs": [],
   "source": [
    "#Question 2:\n",
    "\n",
    "There are two kinds of Statistics, which are descriptive Statistics and inferential Statistics.\n",
    "\n",
    "Descriptive data:\n",
    "In the descriptive Statistics, the Data is described in a summarized way. The summarization is done from the sample of the population using different parameters like Mean or standard deviation. Descriptive Statistics are a way of using charts, graphs, and summary measures to organize, represent, and explain a set of Data.\n",
    "  Example: In a class, the Data is the set of marks obtained by 50 students. Now when we take out the Data average, the result is the average of 50 students’ marks. If the average marks obtained by 50 students are 88 out of 100, on the basis of the outcome, we will draw a conclusion. \n",
    "\n",
    "Inferential Statistics\n",
    "In the Inferential Statistics, we try to interpret the Meaning of descriptive Statistics. After the Data has been collected, analyzed, and summarised we use Inferential Statistics to describe the Meaning of the collected Data. \n",
    "  Example: finding out the exit poll during the election from the sample data."
   ]
  },
  {
   "cell_type": "code",
   "execution_count": null,
   "id": "9c448806",
   "metadata": {},
   "outputs": [],
   "source": [
    "#QUestion 3:\n",
    "\n",
    "In statistics, there are four main types of data: nominal, ordinal, interval, and ratio. \n",
    "    \n",
    "1.Nominal Data:\n",
    "Nominal data is a type of data that consists of categories or names that cannot be ordered or ranked. Nominal data is often used to categorize observations into groups, and the groups are not comparable. In other words, nominal data has no inherent order or ranking. \n",
    "Examples of nominal data include gender (male/female), race (White/Black/Asian), religion (Christianity/Islam/Judaism), and blood type (A/B/AB/O).\n",
    "\n",
    "2.Ordinal Data:\n",
    "Ordinal data is a type of data that consists of categories that can be ordered or ranked. However, the distance between categories is not necessarily equal. Ordinal data is often used to measure subjective attributes or opinions, where there is a natural order to the responses\n",
    "Examples of ordinal data include education level (elementary/middle/high school/college), job position (manager/supervisor/employee), and Likert scales (strongly agree/agree/disagree/strongly disagree).\n",
    "\n",
    "3.Interval Data:\n",
    "Interval data is a type of data that consists of numerical values where the distance between each value is equal. However, there is no true zero point. Interval data is often used to measure attributes such as temperature, dates, and time.\n",
    "Examples of interval data include temperature (Celsius/Fahrenheit), dates (days/months/years), and time (hours/minutes/seconds).\n",
    "\n",
    "4.Ratio Data:\n",
    "Ratio data is a type of data that has a true zero point and an equal distance between each value. Ratio data is considered the most informative type of data because it can be used to make meaningful comparisons and calculations. In addition, ratio data can be used to perform all types of statistical analyses.\n",
    "Examples of ratio data include height (inches/centimeters), weight (pounds/kilograms), income (dollars), and distance (miles/kilometers).For instance, if someone’s height is 60 inches, it means that they are 5 feet tall, and if their height is 72 inches, it means that they are 6 feet tall. Moreover, if someone’s weight is 150 pounds, it means that they weigh 68 kilograms.\n",
    "\n"
   ]
  },
  {
   "cell_type": "code",
   "execution_count": null,
   "id": "44a25cee",
   "metadata": {},
   "outputs": [],
   "source": [
    "#Question 4:\n",
    "\n",
    "Quantitative Data:\n",
    "    1.Number of mangoes exported by a farm.\n",
    "    2.Heigt data of class\n",
    "    3.colour of mangoes.\n",
    "    \n",
    "Qualitative Data:\n",
    "    1.Grading in exam."
   ]
  },
  {
   "cell_type": "code",
   "execution_count": null,
   "id": "b3f63321",
   "metadata": {},
   "outputs": [],
   "source": [
    "#Question 5:\n",
    "\n",
    "Level of measurement is important as it determines the type of statistical analysis you can carry out. As a result, it affects both the nature and the depth of insights you’re able to glean from your data. Certain statistical tests can only be performed where more precise levels of measurement have been used, so it’s essential to plan in advance how you’ll gather and measure your data.\n",
    "There are four levels of measurement (or scales) to be aware of: nominal, ordinal, interval, and ratio. \n",
    "    \n",
    "1.The nominal scale simply categorizes variables according to qualitative labels (or names). These labels and groupings don’t have any order or hierarchy to them, nor do they convey any numerical value. For example, the variable “hair color” could be measured on a nominal scale according to the following categories: blonde hair, brown hair, gray hair, and so on.\n",
    "2.The ordinal scale also categorizes variables into labeled groups, and these categories have an order or hierarchy to them. For example, you could measure the variable “income” on an ordinal scale as follows: low income, medium income, high income. \n",
    "3.The interval scale is a numerical scale which labels and orders variables, with a known, evenly spaced interval between each of the values. An oft-cited example of interval data is temperature in Fahrenheit, where the difference between 10 and 20 degrees Fahrenheit is exactly the same as the difference between, say, 50 and 60 degrees Fahrenheit.\n",
    "4.The ratio scale is exactly the same as the interval scale, with one key difference: The ratio scale has what’s known as a “true zero.” A good example of ratio data is weight in kilograms. If something weighs zero kilograms, it truly weighs nothing—compared to temperature (interval data), where a value of zero degrees doesn’t mean there is “no temperature,” it simply means it’s extremely cold! "
   ]
  },
  {
   "cell_type": "code",
   "execution_count": null,
   "id": "c9943353",
   "metadata": {},
   "outputs": [],
   "source": [
    "#Question 6:\n",
    "\n",
    "Understanding the level of measurement is crucial when analyzing data because it helps determine the appropriate statistical methods to use and the conclusions that can be drawn from the data. Different statistical methods are suited for different levels of measurement, and applying the wrong method can lead to inaccurate results.\n",
    "For example, suppose we want to analyze the relationship between height and weight of individuals in a population. If we have ratio data for both variables, we can use correlation and regression analysis to determine the strength and direction of the relationship between the two variables. However, if we only have ordinal data for height and ratio data for weight, we can use non-parametric tests like Spearman's rank correlation coefficient to measure the strength of the relationship between the two variables.\n",
    "In summary, understanding the level of measurement is critical when analyzing data because it guides the choice of appropriate statistical methods and the conclusions that can be drawn from the data.\n"
   ]
  },
  {
   "cell_type": "code",
   "execution_count": null,
   "id": "b68795ad",
   "metadata": {},
   "outputs": [],
   "source": [
    "#Question 7:\n",
    "\n",
    "Nominal and ordinal data are both types of categorical data, but they differ in the level of measurement.\n",
    "\n",
    "Nominal data is a categorical data type where variables are used to label categories without any quantitative value or order. Nominal variables are typically non-numeric and cannot be ranked or ordered in a meaningful way. Examples of nominal data include gender (male, female), race (white, black, Asian), or favorite color (red, blue, green).\n",
    "In contrast, ordinal data is a categorical data type where variables can be ranked or ordered based on their relative position or value. Ordinal data retains the categorical nature of nominal data, but the categories have a clear ordering or ranking based on some meaningful attribute or characteristic. Examples of ordinal data include rating scales, such as a five-point scale ranging from \"very poor\" to \"excellent,\" or academic grades ranging from A to F.\n"
   ]
  },
  {
   "cell_type": "code",
   "execution_count": null,
   "id": "f504eb22",
   "metadata": {},
   "outputs": [],
   "source": [
    "#Question 8:\n",
    "\n",
    "A box plot, also known as a box and whisker plot, is a type of plot that can be used to display data in terms of range.\n",
    "A box plot displays the range of data as a box with lines, or whiskers, extending from the box that indicate the spread of the data. The box itself represents the middle 50% of the data, with the median value shown as a line in the middle of the box. The whiskers represent the range of the data, and any points outside the whiskers are considered outliers."
   ]
  },
  {
   "cell_type": "code",
   "execution_count": null,
   "id": "cab710e8",
   "metadata": {},
   "outputs": [],
   "source": [
    "#Question 9:\n",
    "\n",
    "Descriptive and inferential statistics are two main branches of statistics that serve different purposes.\n",
    "Descriptive statistics refers to the methods used to summarize and describe data sets. These statistics are used to provide a summary of the main characteristics of a data set, such as measures of central tendency (e.g., mean, median, mode) and measures of variability (e.g., standard deviation, range)\n",
    "Example of descriptive statistics:\n",
    "Suppose a researcher is interested in understanding the demographic characteristics of a sample of university students. They collect data on the age, gender, and ethnicity of a sample of 100 students. Using descriptive statistics, the researcher could calculate the mean, median, and mode age of the sample, as well as the frequency of each gender and ethnicity.\n",
    "\n",
    "Inferential statistics, on the other hand, refers to the methods used to analyze and draw conclusions about a population based on a sample of data. These statistics are used to test hypotheses and make predictions about a larger population, based on the patterns observed in a sample. Inferential statistics involves making inferences about the population parameters (e.g., population mean, proportion, etc.) from sample statistics (e.g., sample mean, proportion, etc.).\n",
    "Example of inferential statistics:\n",
    "Suppose a researcher is interested in understanding whether there is a difference in the average test scores between two groups of students (Group A and Group B). They collect data on the test scores of a sample of 50 students from each group. Using inferential statistics, the researcher can conduct a hypothesis test (e.g., t-test) to determine whether the difference in test scores between the two groups is statistically significant. If the difference is statistically significant, the researcher can infer that the difference is likely to be present in the larger population."
   ]
  },
  {
   "cell_type": "code",
   "execution_count": null,
   "id": "6dfd3190",
   "metadata": {},
   "outputs": [],
   "source": [
    "#Question 10:\n",
    "\n",
    "There are several measures of central tendency and variability used in statistics to describe a dataset.\n",
    "\n",
    "Measures of Central Tendency:\n",
    "\n",
    "1.Mean: The mean is the most common measure of central tendency, calculated as the sum of all values in a dataset divided by the total number of values. It represents the \"average\" value of the dataset. The mean can be influenced by outliers and is not always a representative value if the data is skewed or has extreme values.\n",
    "2.Median: The median is the middle value in a dataset when the values are arranged in order. It represents the value where half of the data falls above and below. The median is less influenced by outliers and can be a more representative value if the data is skewed or has extreme values.\n",
    "3.Mode: The mode is the most common value in a dataset. It represents the value that occurs with the highest frequency. The mode is useful for identifying the most frequent value in the data, but it may not always be a representative value.\n",
    "    \n",
    "Measures of Variability:\n",
    "\n",
    "1.Range: The range is the difference between the highest and lowest values in a dataset. It provides a quick and simple way to describe the spread of the data, but it can be influenced by extreme values.\n",
    "2.Variance: The variance is a measure of the spread of the data around the mean. It is calculated by taking the sum of the squared differences between each value and the mean, divided by the total number of values. The variance provides a more precise measure of variability than the range, but it can be influenced by outliers.\n",
    "3.Standard Deviation: The standard deviation is the square root of the variance. It represents the average distance that the data points deviate from the mean. The standard deviation is a widely used measure of variability because it is easy to interpret and can be used to identify unusual observations.\n",
    "   "
   ]
  }
 ],
 "metadata": {
  "kernelspec": {
   "display_name": "Python 3 (ipykernel)",
   "language": "python",
   "name": "python3"
  },
  "language_info": {
   "codemirror_mode": {
    "name": "ipython",
    "version": 3
   },
   "file_extension": ".py",
   "mimetype": "text/x-python",
   "name": "python",
   "nbconvert_exporter": "python",
   "pygments_lexer": "ipython3",
   "version": "3.10.9"
  }
 },
 "nbformat": 4,
 "nbformat_minor": 5
}
